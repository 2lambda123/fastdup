{
  "nbformat": 4,
  "nbformat_minor": 0,
  "metadata": {
    "colab": {
      "provenance": [],
      "collapsed_sections": [],
      "authorship_tag": "ABX9TyOHrIGBqJwvf5SeWAhRKJhq",
      "include_colab_link": true
    },
    "kernelspec": {
      "name": "python3",
      "display_name": "Python 3"
    },
    "language_info": {
      "name": "python"
    }
  },
  "cells": [
    {
      "cell_type": "markdown",
      "metadata": {
        "id": "view-in-github",
        "colab_type": "text"
      },
      "source": [
        "<a href=\"https://colab.research.google.com/github/visualdatabase/fastdup/blob/main/fastdup_peta.ipynb\" target=\"_parent\"><img src=\"https://colab.research.google.com/assets/colab-badge.svg\" alt=\"Open In Colab\"/></a>"
      ]
    },
    {
      "cell_type": "code",
      "execution_count": null,
      "metadata": {
        "id": "oUw_Y4Ykv3Rm"
      },
      "outputs": [],
      "source": [
        "%pip install fastdup"
      ]
    },
    {
      "cell_type": "markdown",
      "source": [
        "# Download the PETA dataset\n"
      ],
      "metadata": {
        "id": "3KKlqMb2wJGG"
      }
    },
    {
      "cell_type": "code",
      "source": [
        "# PETA dataset from: http://mmlab.ie.cuhk.edu.hk/projects/PETA.html\n",
        "!gdown 1tH5g0fs-VBrGAY2jru5hZz5q1jkHMbK_"
      ],
      "metadata": {
        "id": "eI_WFV1Zv7Bi"
      },
      "execution_count": null,
      "outputs": []
    },
    {
      "cell_type": "code",
      "source": [
        "!unzip -qq /content/PETA.zip -d /content/"
      ],
      "metadata": {
        "id": "z3xYVRrcwMWL"
      },
      "execution_count": null,
      "outputs": []
    },
    {
      "cell_type": "code",
      "source": [
        "!mv '/content/PETA dataset/' /content/peta"
      ],
      "metadata": {
        "id": "3cpGzOmZxnj3"
      },
      "execution_count": null,
      "outputs": []
    },
    {
      "cell_type": "code",
      "source": [
        "\n",
        "\n",
        "\n",
        "import fastdup\n"
      ],
      "metadata": {
        "id": "1MVqcgm1wYde"
      },
      "execution_count": null,
      "outputs": []
    },
    {
      "cell_type": "code",
      "source": [
        "import os\n",
        "files = os.listdir('/content/peta')\n",
        "files = [f for f in files if not f.endswith('txt')]"
      ],
      "metadata": {
        "id": "njuWYWlLwiNH"
      },
      "execution_count": null,
      "outputs": []
    },
    {
      "cell_type": "code",
      "source": [
        "import pandas as pd\n",
        "def get_label_list(fname):\n",
        "    with open('/content/peta/' + fname + '/archive/Label.txt') as f:\n",
        "        lines = []\n",
        "        index = []\n",
        "        filename = []\n",
        "        line = f.readline().replace('\\n','')\n",
        "        lines.append(line.split(' ')[1:])\n",
        "        index.append(line.split(' ')[0])\n",
        "        filename.append(fname)\n",
        "        while (line != ''):\n",
        "            line = f.readline().replace('\\n','')\n",
        "            if len(line):\n",
        "                lines.append(line.split(' ')[1:])\n",
        "                index.append(line.split(' ')[0])\n",
        "                filename.append(fname)\n",
        "\n",
        "    return pd.DataFrame({'index':index, 'labels':lines, 'file':filename})"
      ],
      "metadata": {
        "id": "QpJQwumAwpdG"
      },
      "execution_count": null,
      "outputs": []
    },
    {
      "cell_type": "code",
      "source": [
        "labels = pd.DataFrame()\n",
        "for i in files:\n",
        "    ret = get_label_list(i)\n",
        "    labels = labels.append(ret)"
      ],
      "metadata": {
        "id": "38_Hw5lAwrOX"
      },
      "execution_count": null,
      "outputs": []
    },
    {
      "cell_type": "code",
      "source": [
        "labels.head()"
      ],
      "metadata": {
        "id": "hhcoU0Ecw3LX"
      },
      "execution_count": null,
      "outputs": []
    },
    {
      "cell_type": "code",
      "source": [
        "def get_label(fname):\n",
        "    path = fname.split('/')[-3]\n",
        "    basename = os.path.basename(fname)\n",
        "    index = basename.split('_')[0]\n",
        "    #print('index is', index, 'path', path)\n",
        "    pot = labels[labels['file'] == path]\n",
        "    pot = pot[pot['index'] == index]\n",
        "    #print(pot.head())\n",
        "    if len(pot):\n",
        "        print(pot['labels'].values[0])\n",
        "        return pot['labels'].values[0]\n",
        "    else:\n",
        "        return None"
      ],
      "metadata": {
        "id": "Lia2dQJ1w9dl"
      },
      "execution_count": null,
      "outputs": []
    },
    {
      "cell_type": "code",
      "source": [
        "%pip install wurlitzer\n",
        "%load_ext wurlitzer\n",
        "!rm -fr out_peta\n",
        "fastdup.run(\"/content/peta/\", work_dir='out_peta', turi_param='ccthreshold=0.95')\n"
      ],
      "metadata": {
        "id": "rAJRdRrIxC2E"
      },
      "execution_count": null,
      "outputs": []
    },
    {
      "cell_type": "code",
      "source": [
        "fastdup.create_components_gallery('out_peta', '.', get_label_func=get_label, num_images=5)"
      ],
      "metadata": {
        "id": "AC0bdgAGxFYN"
      },
      "execution_count": null,
      "outputs": []
    },
    {
      "cell_type": "code",
      "source": [
        "from IPython.display import HTML\n",
        "HTML('./components.html')"
      ],
      "metadata": {
        "id": "-Gg-Yhszy3wP"
      },
      "execution_count": null,
      "outputs": []
    },
    {
      "cell_type": "code",
      "source": [],
      "metadata": {
        "id": "NoWCCqt0y8hx"
      },
      "execution_count": null,
      "outputs": []
    }
  ]
}