{
 "cells": [
  {
   "cell_type": "code",
   "execution_count": null,
   "metadata": {},
   "outputs": [],
   "source": [
    "# !pip install -U fastdup"
   ]
  },
  {
   "cell_type": "code",
   "execution_count": 1,
   "metadata": {},
   "outputs": [
    {
     "data": {
      "text/plain": [
       "'0.925'"
      ]
     },
     "execution_count": 1,
     "metadata": {},
     "output_type": "execute_result"
    }
   ],
   "source": [
    "import fastdup\n",
    "fastdup.__version__"
   ]
  },
  {
   "cell_type": "code",
   "execution_count": 2,
   "metadata": {},
   "outputs": [],
   "source": [
    "input_dir = \"./food-101/images/\"\n",
    "work_dir = \"my-fastdup-workdir\""
   ]
  },
  {
   "cell_type": "code",
   "execution_count": null,
   "metadata": {},
   "outputs": [],
   "source": [
    "fastdup.run(input_dir, work_dir)"
   ]
  },
  {
   "cell_type": "code",
   "execution_count": 3,
   "metadata": {},
   "outputs": [
    {
     "name": "stdout",
     "output_type": "stream",
     "text": [
      "2023-05-01 14:32:30 [INFO] 143) Finished load_index() NN model, num_images 101000\n",
      "2023-05-01 14:32:30 [INFO] Read nnf index file from my-fastdup-workdir/nnf.index 1\n",
      "2023-05-01 14:32:30 [INFO] Read NNF index with 101000 images\n"
     ]
    },
    {
     "data": {
      "text/plain": [
       "0"
      ]
     },
     "execution_count": 3,
     "metadata": {},
     "output_type": "execute_result"
    }
   ],
   "source": [
    "fastdup.init_search(10, work_dir, verbose=True, license='your-license-key')\n"
   ]
  },
  {
   "cell_type": "code",
   "execution_count": 4,
   "metadata": {},
   "outputs": [
    {
     "name": "stdout",
     "output_type": "stream",
     "text": [
      "char vec0 :[222, 234, 236, 222, 234, 236, 222, 234, 236]\n",
      "char vec672 :[222, 234, 236, 222, 234, 236, 223, 235, 237]\n",
      "char vec1344 :[223, 235, 237, 223, 235, 237, 223, 235, 237]\n",
      "\n",
      "Image from python side:\n",
      "[[222, 234, 236], [222, 234, 236], [222, 234, 236]]\n",
      "[[222, 234, 236], [222, 234, 236], [223, 235, 237]]\n",
      "[[223, 235, 237], [223, 235, 237], [223, 235, 237]]\n",
      "\n",
      "\n",
      "resized 224:\n",
      "[[222, 234, 236], [222, 234, 236], [222, 234, 236]]\n",
      "[[222, 234, 236], [222, 234, 236], [223, 235, 237]]\n",
      "[[223, 235, 237], [223, 235, 237], [223, 235, 237]]\n",
      "\n",
      "\n",
      "RGB:\n",
      "[[236, 234, 222], [236, 234, 222], [236, 234, 222]]\n",
      "[[236, 234, 222], [236, 234, 222], [237, 235, 223]]\n",
      "[[237, 235, 223], [237, 235, 223], [237, 235, 223]]\n",
      "\n",
      "0 :[236.0000, 234.0000, 222.0000, 236.0000, 234.0000, 222.0000, 236.0000, 234.0000, 222.0000, 237.0000]\n",
      "2023-05-01 14:32:30 [DEBUG] Inner inference took 5 (test? 0)\n",
      "output_tensor0 :[1.4992, 0.2995, -0.0762, 1.0952, 0.0231, 0.2423, 0.0349, 2.2856, 0.2712, 1.1774]\n",
      "output_tensor_end0 :[0.5141, -0.0602, 0.4611, -0.0038]\n",
      "2023-05-01 14:32:30 [DEBUG] Quad array 0x36df2d0 0 start_offset 0 \n",
      "features0 :[1.4992, 0.2995, -0.0762, 1.0952]\n",
      "2023-05-01 14:32:30 [DEBUG] Finished inference fine 0 (test 0)!!\n",
      "2023-05-01 14:32:30 [DEBUG] Going to init quad array of size 1\n",
      "2023-05-01 14:32:30 [DEBUG] Going to run 1 batches with reminder 0\n",
      "2023-05-01 14:32:30 [DEBUG] Going to run single thread normalization of 1 from offet 0\n",
      "2023-05-01 14:32:31 [DEBUG] Finished single thread normalization\n",
      "after normalization10 :[0.0862, 0.0172, -0.0044, 0.0630]\n",
      "2023-05-01 14:32:31 [DEBUG] KNN results\n",
      "100256 : 0.80803 28330 : 0.80783  2760 : 0.80775  8846 : 0.80746  8706 : 0.80650 15126 : 0.80261 100585 : 0.80106 35497 : 0.80053 28877 : 0.79877 42522 : 0.79858 \n",
      "    0 : 0.00000    49 : 0.00000 3544386977768894310 : 0.00000 3419188036794935599 : 0.00000 7597677460589670497 : 0.00000 3617294514893434725 : 0.00000 28992366868835896 : 281751455506530041856.00000   897 : -23395191570343299587251283835383447552.00000 8317665964126642186 : -0.01465 8007527016761811316 : 0.00000 \n",
      "8019820656356237414 : 0.00000 7020094910173112167 : 0.00000 7310028726184473459 : 0.00000 8295737305636693363 : 0.00000 8028827855677255273 : 0.00000 7521891431244982119 : 0.00000 4692801854813138529 : 0.00000 8028829757068025866 : 0.00000 7521891431244982119 : 1.00000 7575092422190722657 : 0.00000 \n",
      "8315180248637989998 : 0.00000 7018141355808284960 : 0.00000 6998715184368217888 : 0.00000 7598805550879240304 : 0.00000 7161137120783789679 : 0.00000 2339461024454372468 : 0.00000 2459000718892887649 : 0.00000 8316213518951346785 : 0.00000 7234309775409112096 : 0.00000 8367811756012300576 : 75879931235666217548311122935808.00000 \n",
      "8097789224905089135 : 0.00000 8028075772393122928 : 0.00000 8028903794876358766 : 0.00000 7955981614409999728 : 0.00000 2314861677660628323 : 0.00000 7163375912487034912 : 0.00000 7017488303061038177 : 0.00000 6998705380048511086 : 0.00000 7305521896674589038 : 0.00000 7310011936961142898 : 0.00000 \n",
      "7451046618694710113 : 9002519887872.00000 7953753191867706985 : 0.00000 7310011937179067758 : 0.00000 7379557481919572256 : 0.00000 2314885530453828969 : 0.00000 7597138403349526882 : 0.00000 7598263559141029233 : 0.00000 7813868778502907758 : 0.00000 2336927755366654825 : 281751455506530041856.00000 7017488324300730977 : 262232766760576090112.00000 \n",
      "8315173372428427374 : 0.00000 7434991257851815284 : 0.00000 7310011937094443054 : 0.00000 7381153636633545313 : 0.00000 2338623232261300768 : 0.00000 7598543875601298032 : 0.00000 7523097619957180270 : 0.00000 7238811150377885812 : 0.00000 8241918693965242469 : 0.00000 7018141085225673061 : 0.00000 \n",
      "7594793376743104612 : 1.00000 8224171243460584812 : 0.00000 2314885530453827941 : 0.00000 7308332182665383000 : 0.00000 2459075821782966899 : 0.00000 8461778954324370802 : 0.00000 7594793432949876077 : 0.00000 6061895852647212396 : 0.00000 2338042707083206767 : 0.00000 8316293034886197094 : 0.00000 \n",
      "7809649077626433056 : 18887700899781943496188928983040.00000 7453010382217899552 : 198867124084860373696512.00000 7521891124988873260 : 71443279863152654564506831159296.00000 7020584519047474785 : 6.65627 2334397743343297901 : 0.00000 7312272867790910063 : 0.00000 6998716366793023588 : 0.00000 7021238698534596128 : 0.00000 7021786272416949603 : -0.00000 7307221376768172914 : -0.00000 \n",
      "7810779306721830258 : -0.00000 2314861639295377523 : 0.00000 7021781904390299680 : 0.00000 8079591193859876212 : 0.00000 2318354783392068197 : 0.00000 7739836321059009901 : 0.00000 7010451389871824997 : 0.00000 8741522552588886390 : 0.00000 7161128167089858676 : 0.00000 7881701908294361451 : 0.00000 \n",
      "2023-05-01 14:32:31 [DEBUG] Replacing lower threshold 0.000000 with position 9 top_k.size() 10 loc pos: 0.798576 last pos: 0.798576 1.000000 10.000000\n",
      "2023-05-01 14:32:31 [INFO] Total time took 59 ms\n",
      "2023-05-01 14:32:31 [INFO] Found a total of 0 fully identical images (d>0.990), which are 0.00 %\n",
      "2023-05-01 14:32:31 [INFO] Found a total of 0 nearly identical images(d>0.980), which are 0.00 %\n",
      "2023-05-01 14:32:31 [INFO] Found a total of 10 above threshold images (d>0.000), which are 0.00 %\n",
      "2023-05-01 14:32:31 [INFO] Found a total of 1 outlier images         (d<0.000), which are 0.00 %\n",
      "2023-05-01 14:32:31 [INFO] Min distance found 0.799 max distance 0.808\n",
      "2023-05-01 14:32:31 [INFO] \n",
      "\n",
      "Example similar files\n",
      "from,to,distance\n",
      "my_apple_pie2.jpg,food-101/images/waffles/1852612.jpg,0.808035\n",
      "my_apple_pie2.jpg,food-101/images/croque_madame/2168715.jpg,0.807826\n",
      "my_apple_pie2.jpg,food-101/images/baklava/3671071.jpg,0.807754\n",
      "my_apple_pie2.jpg,food-101/images/bread_pudding/449076.jpg,0.807464\n"
     ]
    }
   ],
   "source": [
    "df = fastdup.search(\"my_apple_pie2.jpg\", None, verbose=True)"
   ]
  },
  {
   "cell_type": "code",
   "execution_count": 5,
   "metadata": {},
   "outputs": [
    {
     "name": "stderr",
     "output_type": "stream",
     "text": [
      "100%|██████████| 10/10 [00:00<00:00, 112.04it/s]\n"
     ]
    },
    {
     "name": "stdout",
     "output_type": "stream",
     "text": [
      "Stored similarity visual view in  ./duplicates.html\n"
     ]
    },
    {
     "data": {
      "text/plain": [
       "0"
      ]
     },
     "execution_count": 5,
     "metadata": {},
     "output_type": "execute_result"
    }
   ],
   "source": [
    "fastdup.create_duplicates_gallery(df, \".\",input_dir=input_dir)"
   ]
  },
  {
   "cell_type": "code",
   "execution_count": 6,
   "metadata": {},
   "outputs": [
    {
     "name": "stdout",
     "output_type": "stream",
     "text": [
      "Warning: you are running create_similarity_gallery() without providing get_label_func so similarities are not computed between different classes. It is recommended to run this report with labels. Without labels this report output is similar to create_duplicate_gallery()\n"
     ]
    },
    {
     "name": "stderr",
     "output_type": "stream",
     "text": [
      "100%|██████████| 1/1 [00:00<00:00, 10.22it/s]"
     ]
    },
    {
     "name": "stdout",
     "output_type": "stream",
     "text": [
      "Stored similar images visual view in  ./similarity.html\n"
     ]
    },
    {
     "name": "stderr",
     "output_type": "stream",
     "text": [
      "\n"
     ]
    },
    {
     "data": {
      "text/html": [
       "<div>\n",
       "<style scoped>\n",
       "    .dataframe tbody tr th:only-of-type {\n",
       "        vertical-align: middle;\n",
       "    }\n",
       "\n",
       "    .dataframe tbody tr th {\n",
       "        vertical-align: top;\n",
       "    }\n",
       "\n",
       "    .dataframe thead th {\n",
       "        text-align: right;\n",
       "    }\n",
       "</style>\n",
       "<table border=\"1\" class=\"dataframe\">\n",
       "  <thead>\n",
       "    <tr style=\"text-align: right;\">\n",
       "      <th></th>\n",
       "      <th>from</th>\n",
       "      <th>to</th>\n",
       "      <th>distance</th>\n",
       "    </tr>\n",
       "  </thead>\n",
       "  <tbody>\n",
       "    <tr>\n",
       "      <th>0</th>\n",
       "      <td>my_apple_pie2.jpg</td>\n",
       "      <td>[food-101/images/french_toast/2789383.jpg, food-101/images/croque_madame/596068.jpg, food-101/images/escargots/2740742.jpg, food-101/images/waffles/3074426.jpg, food-101/images/ceviche/149829.jpg, food-101/images/bread_pudding/3463547.jpg, food-101/images/bread_pudding/449076.jpg, food-101/images/baklava/3671071.jpg, food-101/images/croque_madame/2168715.jpg, food-101/images/waffles/1852612.jpg]</td>\n",
       "      <td>[0.798576, 0.798768, 0.800533, 0.801059, 0.802614, 0.8065, 0.807464, 0.807754, 0.807826, 0.808035]</td>\n",
       "    </tr>\n",
       "  </tbody>\n",
       "</table>\n",
       "</div>"
      ],
      "text/plain": [
       "                from   \n",
       "0  my_apple_pie2.jpg  \\\n",
       "\n",
       "                                                                                                                                                                                                                                                                                                                                                                                                               to   \n",
       "0  [food-101/images/french_toast/2789383.jpg, food-101/images/croque_madame/596068.jpg, food-101/images/escargots/2740742.jpg, food-101/images/waffles/3074426.jpg, food-101/images/ceviche/149829.jpg, food-101/images/bread_pudding/3463547.jpg, food-101/images/bread_pudding/449076.jpg, food-101/images/baklava/3671071.jpg, food-101/images/croque_madame/2168715.jpg, food-101/images/waffles/1852612.jpg]  \\\n",
       "\n",
       "                                                                                             distance  \n",
       "0  [0.798576, 0.798768, 0.800533, 0.801059, 0.802614, 0.8065, 0.807464, 0.807754, 0.807826, 0.808035]  "
      ]
     },
     "execution_count": 6,
     "metadata": {},
     "output_type": "execute_result"
    }
   ],
   "source": [
    "fastdup.create_similarity_gallery(df, \".\",input_dir=input_dir, min_items=3)"
   ]
  },
  {
   "cell_type": "code",
   "execution_count": null,
   "metadata": {},
   "outputs": [],
   "source": []
  },
  {
   "cell_type": "code",
   "execution_count": null,
   "metadata": {},
   "outputs": [],
   "source": []
  }
 ],
 "metadata": {
  "kernelspec": {
   "display_name": "fastdup",
   "language": "python",
   "name": "python3"
  },
  "language_info": {
   "codemirror_mode": {
    "name": "ipython",
    "version": 3
   },
   "file_extension": ".py",
   "mimetype": "text/x-python",
   "name": "python",
   "nbconvert_exporter": "python",
   "pygments_lexer": "ipython3",
   "version": "3.10.11"
  },
  "orig_nbformat": 4
 },
 "nbformat": 4,
 "nbformat_minor": 2
}
